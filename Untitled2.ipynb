{
 "cells": [
  {
   "cell_type": "code",
   "execution_count": 1,
   "id": "dbaca669",
   "metadata": {},
   "outputs": [
    {
     "ename": "NameError",
     "evalue": "name 'D' is not defined",
     "output_type": "error",
     "traceback": [
      "\u001b[1;31m---------------------------------------------------------------------------\u001b[0m",
      "\u001b[1;31mNameError\u001b[0m                                 Traceback (most recent call last)",
      "\u001b[1;32m~\\AppData\\Local\\Temp/ipykernel_27392/2073591725.py\u001b[0m in \u001b[0;36m<module>\u001b[1;34m\u001b[0m\n\u001b[0;32m      9\u001b[0m \u001b[1;31m#     print(type(value[1][0]))\u001b[0m\u001b[1;33m\u001b[0m\u001b[1;33m\u001b[0m\u001b[1;33m\u001b[0m\u001b[0m\n\u001b[0;32m     10\u001b[0m     \u001b[1;32mif\u001b[0m \u001b[0misinstance\u001b[0m\u001b[1;33m(\u001b[0m\u001b[0mvalue\u001b[0m\u001b[1;33m[\u001b[0m\u001b[1;36m1\u001b[0m\u001b[1;33m]\u001b[0m\u001b[1;33m[\u001b[0m\u001b[1;36m0\u001b[0m\u001b[1;33m]\u001b[0m\u001b[1;33m,\u001b[0m\u001b[0mstr\u001b[0m\u001b[1;33m)\u001b[0m \u001b[1;32mand\u001b[0m \u001b[0mvalue\u001b[0m\u001b[1;33m[\u001b[0m\u001b[1;36m1\u001b[0m\u001b[1;33m]\u001b[0m\u001b[1;33m[\u001b[0m\u001b[1;36m0\u001b[0m\u001b[1;33m]\u001b[0m\u001b[1;33m.\u001b[0m\u001b[0mstartswith\u001b[0m\u001b[1;33m(\u001b[0m\u001b[1;34m'2020/4'\u001b[0m\u001b[1;33m)\u001b[0m\u001b[1;33m:\u001b[0m\u001b[1;33m\u001b[0m\u001b[1;33m\u001b[0m\u001b[0m\n\u001b[1;32m---> 11\u001b[1;33m         \u001b[0mcontents\u001b[0m\u001b[1;33m.\u001b[0m\u001b[0mappend\u001b[0m\u001b[1;33m(\u001b[0m\u001b[0mD\u001b[0m\u001b[1;33m)\u001b[0m\u001b[1;33m\u001b[0m\u001b[1;33m\u001b[0m\u001b[0m\n\u001b[0m\u001b[0;32m     12\u001b[0m \u001b[1;33m\u001b[0m\u001b[0m\n\u001b[0;32m     13\u001b[0m \u001b[0mprint\u001b[0m\u001b[1;33m(\u001b[0m\u001b[0mcontents\u001b[0m\u001b[1;33m)\u001b[0m\u001b[1;33m\u001b[0m\u001b[1;33m\u001b[0m\u001b[0m\n",
      "\u001b[1;31mNameError\u001b[0m: name 'D' is not defined"
     ]
    }
   ],
   "source": [
    "import pandas as pd\n",
    "\n",
    "content=pd.read_csv(r'C:\\Users\\dongxs\\Desktop\\luoyunting\\result_data_20210824\\weibo_weibos.csv')\n",
    "time=content['publish_time']\n",
    "data=content['content']\n",
    "contents=[]\n",
    "for value in enumerate(zip(time,data)):\n",
    "#     print(value)\n",
    "#     print(type(value[1][0]))\n",
    "    if isinstance(value[1][0],str) and value[1][0].startswith('2020/4'):\n",
    "        contents.append(D)\n",
    "        \n",
    "print(contents)"
   ]
  },
  {
   "cell_type": "code",
   "execution_count": null,
   "id": "8ebbf9e9",
   "metadata": {},
   "outputs": [],
   "source": [
    "import torch\n",
    "from transformers import BertTokenizer,BertConfig,BertModel\n",
    "\n",
    "model_name='bert-base-cased'\n",
    "MODEL_PATH='I:/bert-base-cased/'\n",
    "\n",
    "tokenizer=BertTokenizer.from_pretrained(model_name)\n",
    "model_config=BertConfig.from_pretrained(model_name)\n",
    "\n",
    "model_config.output_hidden_states=True\n",
    "model_config.output_attentions=True\n",
    "\n",
    "bert_model=BertModel.from_pretrained(MODEL_PATH,config=model_config)\n",
    "\n",
    "print(tokenizer.encode(\"I don't like you\"))"
   ]
  },
  {
   "cell_type": "code",
   "execution_count": 8,
   "id": "9f2db558",
   "metadata": {},
   "outputs": [
    {
     "name": "stdout",
     "output_type": "stream",
     "text": [
      "O O\n",
      "B B\n",
      "I I\n",
      "I O\n",
      "O O\n",
      "B B\n",
      "O O\n",
      "B B\n",
      "I I\n",
      "I B\n",
      "O O\n",
      "O O\n",
      "O O\n",
      "11\n",
      "13 13\n",
      "0.8461538461538461\n"
     ]
    }
   ],
   "source": [
    "def accuracy(list1,list2):\n",
    "    count=0\n",
    "    for predict,orginal in  zip(list1,list2):\n",
    "        print(predict,orginal)\n",
    "        if predict==orginal:\n",
    "            count += 1\n",
    "    print(count)\n",
    "    print(len(list1),len(list2))\n",
    "    return count/len(list1)\n",
    "\n",
    "list1=['O','B','I','I','O','B','O','B','I','I','O','O','O']\n",
    "list2=['O','B','I','O','O','B','O','B','I','B','O','O','O']\n",
    "\n",
    "print(accuracy(list1,list2))"
   ]
  }
 ],
 "metadata": {
  "kernelspec": {
   "display_name": "Python 3 (ipykernel)",
   "language": "python",
   "name": "python3"
  },
  "language_info": {
   "codemirror_mode": {
    "name": "ipython",
    "version": 3
   },
   "file_extension": ".py",
   "mimetype": "text/x-python",
   "name": "python",
   "nbconvert_exporter": "python",
   "pygments_lexer": "ipython3",
   "version": "3.7.4"
  }
 },
 "nbformat": 4,
 "nbformat_minor": 5
}
